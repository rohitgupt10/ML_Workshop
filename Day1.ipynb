{
 "cells": [
  {
   "cell_type": "code",
   "execution_count": 2,
   "id": "b45f0399-72fd-442c-af20-d75961f6c60d",
   "metadata": {},
   "outputs": [
    {
     "name": "stdout",
     "output_type": "stream",
     "text": [
      "hey jude\n"
     ]
    }
   ],
   "source": [
    "print(\"hey jude\")"
   ]
  },
  {
   "cell_type": "code",
   "execution_count": 1,
   "id": "e69cfe7a-220c-4de2-ae5e-2feda7115249",
   "metadata": {},
   "outputs": [
    {
     "name": "stdout",
     "output_type": "stream",
     "text": [
      "a song by The beatles\n"
     ]
    }
   ],
   "source": [
    "print(\"a song by The beatles\")"
   ]
  },
  {
   "cell_type": "code",
   "execution_count": 3,
   "id": "c6cd2027",
   "metadata": {},
   "outputs": [
    {
     "name": "stdout",
     "output_type": "stream",
     "text": [
      "how you doing?\n"
     ]
    }
   ],
   "source": [
    "print(\"how you doing?\")"
   ]
  },
  {
   "cell_type": "code",
   "execution_count": 1,
   "id": "1043c2b8",
   "metadata": {},
   "outputs": [
    {
     "name": "stdout",
     "output_type": "stream",
     "text": [
      "Result: 30\n"
     ]
    }
   ],
   "source": [
    "a=10\n",
    "b=20\n",
    "print(\"Result:\",a+b);"
   ]
  },
  {
   "cell_type": "code",
   "execution_count": 1,
   "id": "92612389-2aad-4248-a793-78d3af41b0c7",
   "metadata": {},
   "outputs": [
    {
     "name": "stdout",
     "output_type": "stream",
     "text": [
      "Value of length is 8\n",
      "Value of breadth is 5\n",
      "Value of height is 7\n",
      "Volume is 280\n"
     ]
    }
   ],
   "source": [
    "length= 8;\n",
    "breadth= 5;\n",
    "height= 7;\n",
    "print(\"Value of length is\",length);\n",
    "print(\"Value of breadth is\",breadth);\n",
    "print(\"Value of height is\",height);\n",
    "print(\"Volume is\",length*breadth*height);"
   ]
  },
  {
   "cell_type": "code",
   "execution_count": 1,
   "id": "505b5614-ba20-45f0-b50c-715bf6e649af",
   "metadata": {},
   "outputs": [
    {
     "name": "stdout",
     "output_type": "stream",
     "text": [
      "Value of length is 8\n",
      "Value of breadth is 5\n",
      "Value of height is 7\n",
      "Volume is 280\n"
     ]
    }
   ],
   "source": [
    "length= 8;\n",
    "breadth= 5;\n",
    "height= 7;\n",
    "print(\"Value of length is\",length);\n",
    "print(\"Value of breadth is\",breadth);\n",
    "print(\"Value of height is\",height);\n",
    "print(\"Volume is\",length*breadth*height);"
   ]
  },
  {
   "cell_type": "code",
   "execution_count": null,
   "id": "8b5d5ce2-a48e-4a36-914a-1af8a9689114",
   "metadata": {},
   "outputs": [],
   "source": []
  },
  {
   "cell_type": "code",
   "execution_count": null,
   "id": "32a679d3-fd05-4c97-a2ad-cbf0be3015e3",
   "metadata": {},
   "outputs": [],
   "source": []
  }
 ],
 "metadata": {
  "kernelspec": {
   "display_name": "Python 3",
   "language": "python",
   "name": "python3"
  },
  "language_info": {
   "codemirror_mode": {
    "name": "ipython",
    "version": 3
   },
   "file_extension": ".py",
   "mimetype": "text/x-python",
   "name": "python",
   "nbconvert_exporter": "python",
   "pygments_lexer": "ipython3",
   "version": "3.13.2"
  }
 },
 "nbformat": 4,
 "nbformat_minor": 5
}
